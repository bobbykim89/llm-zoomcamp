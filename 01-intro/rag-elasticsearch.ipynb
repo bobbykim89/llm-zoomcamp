{
 "cells": [
  {
   "cell_type": "code",
   "execution_count": null,
   "id": "10cd8b65",
   "metadata": {},
   "outputs": [],
   "source": [
    "from openai import OpenAI\n",
    "from dotenv import load_dotenv\n",
    "import json\n",
    "from elasticsearch import Elasticsearch\n",
    "from tqdm.auto import tqdm\n",
    "\n",
    "load_dotenv()\n",
    "\n",
    "class ElasticRag:\n",
    "    client: OpenAI\n",
    "    documents: list\n",
    "    es_client: Elasticsearch\n",
    "    index_settings: dict[str, any]\n",
    "    index_name: str\n",
    "\n",
    "    def __init__(self, index_name: str):\n",
    "        self.client = OpenAI()\n",
    "        self.es_client = Elasticsearch('http://localhost:9200')\n",
    "        with open('documents.json', 'rt') as f_in:\n",
    "            docs_raw = json.load(f_in)\n",
    "        \n",
    "        documents = []\n",
    "        for course_dict in docs_raw:\n",
    "            for doc in course_dict['documents']:\n",
    "                doc['course'] = course_dict['course']\n",
    "                documents.append(doc)\n",
    "        self.documents = documents\n",
    "        self.index_settings = {\n",
    "            \"settings\": {\n",
    "                \"number_of_shards\": 1,\n",
    "                \"number_of_replicas\": 0\n",
    "            },\n",
    "            \"mappings\": {\n",
    "                \"properties\": {\n",
    "                    \"text\": {\"type\": \"text\"},\n",
    "                    \"section\": {\"type\": \"text\"},\n",
    "                    \"question\": {\"type\": \"text\"},\n",
    "                    \"course\": {\"type\": \"keyword\"}\n",
    "                }\n",
    "            }\n",
    "        }\n",
    "        self.index_name = index_name\n",
    "\n",
    "    def create_index(self):\n",
    "        self.es_client.indices.create(index=self.index_name, body=self.index_settings)\n",
    "    def destroy_index(self):\n",
    "        self.es_client.indices.delete(index=self.index_name)\n",
    "    def index_data(self):\n",
    "        for doc in tqdm(self.documents):\n",
    "            self.es_client.index(index=self.index_name, document=doc)\n",
    "    def _build_prompt (self, query: str, search_results: list):\n",
    "        prompt_template = \"\"\"\n",
    "        You're a course teaching assistant. Answer the QUESTION based on the CONTENT from the FAQ database.\n",
    "        Use only the facts from the CONTEXT when answering the QUESTION.\n",
    "\n",
    "        QUESTION: {question}\n",
    "\n",
    "        CONTEXT:\n",
    "        {context}\n",
    "        \"\"\".strip()\n",
    "\n",
    "        context = \"\"\n",
    "\n",
    "        for doc in search_results:\n",
    "            context = context + \\\n",
    "                f\"section: {doc['section']}\\nquestion: {doc['question']}\\nanswer: {doc['text']}\\n\\n\"\n",
    "\n",
    "        prompt = prompt_template.format(question=query, context=context).strip()\n",
    "        return prompt\n",
    "    def _llm(self, prompt: str):\n",
    "        response = self.client.chat.completions.create(\n",
    "            model='gpt-4o',\n",
    "            messages=[{\"role\": \"user\", \"content\": prompt}]\n",
    "        )\n",
    "        return response.choices[0].message.content\n",
    "    def _elastic_search (self, query: str):\n",
    "        search_query = {\n",
    "            \"size\": 5,\n",
    "            \"query\": {\n",
    "                \"bool\": {\n",
    "                    \"must\": {\n",
    "                        \"multi_match\": {\n",
    "                            \"query\": query,\n",
    "                            \"fields\": [\"question^3\", \"text\", \"section\"],\n",
    "                            \"type\": \"best_fields\"\n",
    "                        }\n",
    "                    },\n",
    "                    \"filter\": {\n",
    "                        \"term\": {\n",
    "                            \"course\": \"data-engineering-zoomcamp\"\n",
    "                        }\n",
    "                    }\n",
    "                }\n",
    "            }\n",
    "        }\n",
    "        response = self.es_client.search(index=self.index_name, body=search_query)\n",
    "        result_docs = []\n",
    "        for hit in response['hits']['hits']:\n",
    "            result_docs.append(hit['_source'])\n",
    "\n",
    "        return result_docs\n",
    "    def rag(self, query: str):\n",
    "        results = self._elastic_search(query=query)\n",
    "        prompt = self._build_prompt(query=query, search_results=results)\n",
    "        answer = self._llm(prompt)\n",
    "        return answer"
   ]
  },
  {
   "cell_type": "code",
   "execution_count": 19,
   "id": "20e97063",
   "metadata": {},
   "outputs": [],
   "source": [
    "# instanciate ELasticRag class\n",
    "elastic_rag = ElasticRag(index_name='course-questions')"
   ]
  },
  {
   "cell_type": "code",
   "execution_count": 20,
   "id": "2939c0ae",
   "metadata": {},
   "outputs": [],
   "source": [
    "# Destroy existing index\n",
    "elastic_rag.destroy_index()"
   ]
  },
  {
   "cell_type": "code",
   "execution_count": 21,
   "id": "d17e5f74",
   "metadata": {},
   "outputs": [
    {
     "name": "stderr",
     "output_type": "stream",
     "text": [
      "100%|██████████| 948/948 [00:02<00:00, 320.77it/s]\n"
     ]
    }
   ],
   "source": [
    "# create new index with given index name and feed data into index.\n",
    "elastic_rag.create_index()\n",
    "elastic_rag.index_data()"
   ]
  },
  {
   "cell_type": "code",
   "execution_count": 22,
   "id": "b0febcc5",
   "metadata": {},
   "outputs": [
    {
     "data": {
      "text/plain": [
       "'Yes, even if you just discovered the course, you can still join it. You are eligible to submit the homework without registering. However, be aware that there are deadlines for turning in the final projects, so try not to leave everything for the last minute.'"
      ]
     },
     "execution_count": 22,
     "metadata": {},
     "output_type": "execute_result"
    }
   ],
   "source": [
    "query = 'I just discovered the course can I still join it?'\n",
    "elastic_rag.rag(query=query)"
   ]
  },
  {
   "cell_type": "code",
   "execution_count": null,
   "id": "30aee93d",
   "metadata": {},
   "outputs": [],
   "source": []
  }
 ],
 "metadata": {
  "kernelspec": {
   "display_name": ".venv",
   "language": "python",
   "name": "python3"
  },
  "language_info": {
   "codemirror_mode": {
    "name": "ipython",
    "version": 3
   },
   "file_extension": ".py",
   "mimetype": "text/x-python",
   "name": "python",
   "nbconvert_exporter": "python",
   "pygments_lexer": "ipython3",
   "version": "3.11.2"
  }
 },
 "nbformat": 4,
 "nbformat_minor": 5
}
