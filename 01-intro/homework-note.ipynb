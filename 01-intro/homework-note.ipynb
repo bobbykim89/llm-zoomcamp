{
 "cells": [
  {
   "cell_type": "code",
   "execution_count": 112,
   "id": "d2b188cb",
   "metadata": {},
   "outputs": [],
   "source": [
    "import requests\n",
    "from openai import OpenAI\n",
    "from dotenv import load_dotenv\n",
    "from elasticsearch import Elasticsearch\n",
    "from tqdm.auto import tqdm\n",
    "import textwrap\n",
    "import tiktoken\n",
    "\n",
    "load_dotenv()\n",
    "\n",
    "class HomeworkClass:\n",
    "    documents: list\n",
    "    open_ai: OpenAI\n",
    "    es_client: Elasticsearch\n",
    "    index_settings: dict[str, any]\n",
    "    index_name: str\n",
    "\n",
    "    def __init__(self, index_name: str):\n",
    "        self.open_ai = OpenAI()\n",
    "        self.es_client = Elasticsearch('http://localhost:9200')\n",
    "\n",
    "        docs_url = 'https://github.com/DataTalksClub/llm-zoomcamp/blob/main/01-intro/documents.json?raw=1'\n",
    "        docs_response = requests.get(docs_url)\n",
    "        documents_raw = docs_response.json()\n",
    "\n",
    "        documents = []\n",
    "\n",
    "        for course in documents_raw:\n",
    "            course_name = course['course']\n",
    "            for doc in course['documents']:\n",
    "                doc['course'] = course_name\n",
    "                documents.append(doc)\n",
    "        self.documents = documents\n",
    "\n",
    "        self.index_settings = {\n",
    "            \"settings\": {\n",
    "                \"number_of_shards\": 1,\n",
    "                \"number_of_replicas\": 0\n",
    "            },\n",
    "            \"mappings\": {\n",
    "                \"properties\": {\n",
    "                    \"text\": {\"type\": \"text\"},\n",
    "                    \"section\": {\"type\": \"text\"},\n",
    "                    \"question\": {\"type\": \"text\"},\n",
    "                    \"course\": {\"type\": \"keyword\"}\n",
    "                }\n",
    "            }\n",
    "        }\n",
    "        self.index_name = index_name\n",
    "\n",
    "    def _create_index(self):\n",
    "        self.es_client.indices.create(\n",
    "            index=self.index_name, body=self.index_settings)\n",
    "\n",
    "    def _destroy_index(self):\n",
    "        self.es_client.indices.delete(index=self.index_name)\n",
    "\n",
    "    def _index_data(self):\n",
    "        for doc in tqdm(self.documents):\n",
    "            self.es_client.index(index=self.index_name, document=doc)\n",
    "\n",
    "    def init_index(self):\n",
    "        self._create_index()\n",
    "        self._index_data()\n",
    "\n",
    "    def reinitialize_index(self):\n",
    "        self._destroy_index()\n",
    "        self._create_index()\n",
    "        self._index_data()\n",
    "\n",
    "    def elastic_search(self, query: str):\n",
    "        search_query = {\n",
    "            # for question 3\n",
    "            # \"query\": {\n",
    "            #     \"multi_match\": {\n",
    "            #         \"query\": query,\n",
    "            #         \"type\": \"best_fields\",\n",
    "            #         \"fields\": [\"question^4\", \"text\"]\n",
    "            #     }\n",
    "            # },\n",
    "            # for question 4\n",
    "            \"size\": 3,\n",
    "            \"query\": {\n",
    "                \"bool\": {\n",
    "                    \"must\": {\n",
    "                        \"multi_match\": {\n",
    "                            \"query\": query,\n",
    "                            \"fields\": [\"question^4\", \"text\"],\n",
    "                            \"type\": \"best_fields\"\n",
    "                        }\n",
    "                    },\n",
    "                    \"filter\": {\n",
    "                        \"term\": {\n",
    "                            \"course\": \"machine-learning-zoomcamp\"\n",
    "                        }\n",
    "                    }\n",
    "                }\n",
    "            }\n",
    "        }\n",
    "        response = self.es_client.search(\n",
    "            index=self.index_name, body=search_query)\n",
    "        result_docs = []\n",
    "        for hit in response['hits']['hits']:\n",
    "            result_docs.append({\"score\": hit['_score'], \"source\": hit['_source']})\n",
    "        return result_docs\n",
    "    \n",
    "    def _build_prompt(self, query: str, search_results: list):\n",
    "        context_template = textwrap.dedent(\"\"\"\n",
    "        Q: {question}\n",
    "        A: {text}\n",
    "        \"\"\").strip()\n",
    "\n",
    "        context_entries = []\n",
    "        for doc in search_results:\n",
    "            ctx = context_template.format(\n",
    "                question=doc['source']['question'], text=doc['source']['text'])\n",
    "            context_entries.append(ctx)\n",
    "        context = \"\\n\\n\".join(context_entries)\n",
    "\n",
    "        prompt_template = textwrap.dedent(\"\"\"\n",
    "        You're a course teaching assistant. Answer the QUESTION based on the CONTEXT from the FAQ database.\n",
    "        Use only the facts from the CONTEXT when answering the QUESTION.\n",
    "\n",
    "        QUESTION: {question}\n",
    "\n",
    "        CONTEXT:\n",
    "        {context}\n",
    "        \"\"\").strip()\n",
    "\n",
    "        prompt = prompt_template.format(\n",
    "            question=query, context=context).strip()\n",
    "        return prompt\n",
    "    \n",
    "    def _llm(self, prompt: str):\n",
    "        response = self.client.chat.completions.create(\n",
    "            model='gpt-4o',\n",
    "            messages=[{\"role\": \"user\", \"content\": prompt}]\n",
    "        )\n",
    "        return response.choices[0].message.content\n",
    "    \n",
    "    def get_prompt(self, query: str)->str:\n",
    "        results = self.elastic_search(query=query)\n",
    "        prompt = self._build_prompt(query=query, search_results=results)\n",
    "        return prompt\n",
    "    \n",
    "    def encode_prompt(self, query: str):\n",
    "        prompt = self.get_prompt(query)\n",
    "        encoding = tiktoken.encoding_for_model('gpt-4o')\n",
    "        encoded_list = encoding.encode(text=prompt)\n",
    "        return encoded_list\n",
    "\n",
    "    def rag(self, query: str):\n",
    "        results = self.elastic_search(query=query)\n",
    "        prompt = self._build_prompt(query=query, search_results=results)\n",
    "        answer = self._llm(prompt)\n",
    "        return answer"
   ]
  },
  {
   "cell_type": "code",
   "execution_count": 113,
   "id": "5ba77a7b",
   "metadata": {},
   "outputs": [],
   "source": [
    "homework = HomeworkClass('homework-collection')"
   ]
  },
  {
   "cell_type": "code",
   "execution_count": 16,
   "id": "8666a839",
   "metadata": {},
   "outputs": [
    {
     "name": "stderr",
     "output_type": "stream",
     "text": [
      "100%|██████████| 948/948 [00:02<00:00, 332.58it/s]\n"
     ]
    }
   ],
   "source": [
    "homework.init_index()"
   ]
  },
  {
   "cell_type": "code",
   "execution_count": null,
   "id": "b259e061",
   "metadata": {},
   "outputs": [
    {
     "data": {
      "text/plain": [
       "[{'score': 44.50556,\n",
       "  'source': {'text': 'Launch the container image in interactive mode and overriding the entrypoint, so that it starts a bash command.\\ndocker run -it --entrypoint bash <image>\\nIf the container is already running, execute a command in the specific container:\\ndocker ps (find the container-id)\\ndocker exec -it <container-id> bash\\n(Marcos MJD)',\n",
       "   'section': '5. Deploying Machine Learning Models',\n",
       "   'question': 'How do I debug a docker container?',\n",
       "   'course': 'machine-learning-zoomcamp'}},\n",
       " {'score': 35.433445,\n",
       "  'source': {'text': 'Deploy and Access the Kubernetes Dashboard\\nLuke',\n",
       "   'section': '10. Kubernetes and TensorFlow Serving',\n",
       "   'question': 'Kubernetes-dashboard',\n",
       "   'course': 'machine-learning-zoomcamp'}},\n",
       " {'score': 33.70974,\n",
       "  'source': {'text': 'You can copy files from your local machine into a Docker container using the docker cp command. Here\\'s how to do it:\\nIn the Dockerfile, you can provide the folder containing the files that you want to copy over. The basic syntax is as follows:\\nCOPY [\"src/predict.py\", \"models/xgb_model.bin\", \"./\"]\\t\\t\\t\\t\\t\\t\\t\\t\\t\\t\\tGopakumar Gopinathan',\n",
       "   'section': '5. Deploying Machine Learning Models',\n",
       "   'question': 'How do I copy files from a different folder into docker container’s working directory?',\n",
       "   'course': 'machine-learning-zoomcamp'}},\n",
       " {'score': 33.2635,\n",
       "  'source': {'text': 'Problem description:\\nI started a web-server in terminal (command window, powershell, etc.). How can I run another python script, which makes a request to this server?\\nSolution description:\\nJust open another terminal (command window, powershell, etc.) and run a python script.\\nAlena Kniazeva',\n",
       "   'section': '5. Deploying Machine Learning Models',\n",
       "   'question': 'How to run a script while a web-server is working?',\n",
       "   'course': 'machine-learning-zoomcamp'}},\n",
       " {'score': 32.589073,\n",
       "  'source': {'text': \"Matplotlib has a cool method to annotate where you could provide an X,Y point and annotate with an arrow and text. For example this will show an arrow pointing to the x,y point optimal threshold.\\nplt.annotate(f'Optimal Threshold: {optimal_threshold:.2f}\\\\nOptimal F1 Score: {optimal_f1_score:.2f}',\\nxy=(optimal_threshold, optimal_f1_score),\\nxytext=(0.3, 0.5),\\ntextcoords='axes fraction',\\narrowprops=dict(facecolor='black', shrink=0.05))\\nQuinn Avila\",\n",
       "   'section': '4. Evaluation Metrics for Classification',\n",
       "   'question': 'How can I annotate a graph?',\n",
       "   'course': 'machine-learning-zoomcamp'}},\n",
       " {'score': 31.973522,\n",
       "  'source': {'text': 'Install the astronomer-cosmos package as a dependency. (see Terraform example).\\nMake a new folder, dbt/, inside the dags/ folder of your Composer GCP bucket and copy paste your dbt-core project there. (see example)\\nEnsure your profiles.yml is configured to authenticate with a service account key. (see BigQuery example)\\nCreate a new DAG using the DbtTaskGroup class and a ProfileConfig specifying a profiles_yml_filepath that points to the location of your JSON key file. (see example)\\nYour dbt lineage graph should now appear as tasks inside a task group like this:',\n",
       "   'section': 'Course Management Form for Homeworks',\n",
       "   'question': 'How to run a dbt-core project as an Airflow Task Group on Google Cloud Composer using a service account JSON key',\n",
       "   'course': 'data-engineering-zoomcamp'}},\n",
       " {'score': 31.884274,\n",
       "  'source': {'text': 'Alexey Grigorev: “It’s based on all the scores to make sure most of you pass.”                                                   By Annaliese Bronz\\nOther course-related questions that don’t fall into any of the categories above or can apply to more than one category/module',\n",
       "   'section': 'Miscellaneous',\n",
       "   'question': 'Do you pass a project based on the average of everyone else’s scores or based on the total score you earn?',\n",
       "   'course': 'machine-learning-zoomcamp'}},\n",
       " {'score': 31.098085,\n",
       "  'source': {'text': \"There are 3 Zoom Camps in a year, as of 2024. However, they are for separate courses:\\nData-Engineering (Jan - Apr)\\nMLOps (May - Aug)\\nMachine Learning (Sep - Jan)\\nThere's only one Data-Engineering Zoomcamp “live” cohort per year, for the certification. Same as for the other Zoomcamps.\\nThey follow pretty much the same schedule for each cohort per zoomcamp. For Data-Engineering it is (generally) from Jan-Apr of the year. If you’re not interested in the Certificate, you can take any zoom camps at any time, at your own pace, out of sync with any “live” cohort.\",\n",
       "   'section': 'General course-related questions',\n",
       "   'question': 'Course - how many Zoomcamps in a year?',\n",
       "   'course': 'data-engineering-zoomcamp'}},\n",
       " {'score': 31.098085,\n",
       "  'source': {'text': 'There are different techniques, but the most common used are the next:\\nDataset transformation (for example, log transformation)\\nClipping high values\\nDropping these observations\\nAlena Kniazeva',\n",
       "   'section': 'Miscellaneous',\n",
       "   'question': 'How to handle outliers in a dataset?',\n",
       "   'course': 'machine-learning-zoomcamp'}},\n",
       " {'score': 30.154186,\n",
       "  'source': {'text': 'Error:\\nspark.createDataFrame(df_pandas).schema\\nTypeError: field Affiliated_base_number: Can not merge type <class \\'pyspark.sql.types.StringType\\'> and <class \\'pyspark.sql.types.DoubleType\\'>\\nSolution:\\nAffiliated_base_number is a mix of letters and numbers (you can check this with a preview of the table), so it cannot be set to DoubleType (only for double-precision numbers). The suitable type would be StringType. Spark  inferSchema is more accurate than Pandas infer type method in this case. You can set it to  true  while reading the csv, so you don’t have to take out any data from your dataset. Something like this can help:\\ndf = spark.read \\\\\\n.options(\\nheader = \"true\", \\\\\\ninferSchema = \"true\", \\\\\\n) \\\\\\n.csv(\\'path/to/your/csv/file/\\')\\nSolution B:\\nIt\\'s because some rows in the affiliated_base_number are null and therefore it is assigned the datatype String and this cannot be converted to type Double. So if you really want to convert this pandas df to a pyspark df only take the  rows from the pandas df that are not null in the \\'Affiliated_base_number\\' column. Then you will be able to apply the pyspark function createDataFrame.\\n# Only take rows that have no null values\\npandas_df= pandas_df[pandas_df.notnull().all(1)]',\n",
       "   'section': 'Module 5: pyspark',\n",
       "   'question': 'TypeError when using spark.createDataFrame function on a pandas df',\n",
       "   'course': 'data-engineering-zoomcamp'}}]"
      ]
     },
     "execution_count": 30,
     "metadata": {},
     "output_type": "execute_result"
    }
   ],
   "source": [
    "# question 3\n",
    "homework.elastic_search(query='How do execute a command on a Kubernetes pod?')"
   ]
  },
  {
   "cell_type": "code",
   "execution_count": 50,
   "id": "57965866",
   "metadata": {},
   "outputs": [
    {
     "data": {
      "text/plain": [
       "[{'score': 73.38676,\n",
       "  'source': {'text': 'Launch the container image in interactive mode and overriding the entrypoint, so that it starts a bash command.\\ndocker run -it --entrypoint bash <image>\\nIf the container is already running, execute a command in the specific container:\\ndocker ps (find the container-id)\\ndocker exec -it <container-id> bash\\n(Marcos MJD)',\n",
       "   'section': '5. Deploying Machine Learning Models',\n",
       "   'question': 'How do I debug a docker container?',\n",
       "   'course': 'machine-learning-zoomcamp'}},\n",
       " {'score': 66.688705,\n",
       "  'source': {'text': \"You can copy files from your local machine into a Docker container using the docker cp command. Here's how to do it:\\nTo copy a file or directory from your local machine into a running Docker container, you can use the `docker cp command`. The basic syntax is as follows:\\ndocker cp /path/to/local/file_or_directory container_id:/path/in/container\\nHrithik Kumar Advani\",\n",
       "   'section': '5. Deploying Machine Learning Models',\n",
       "   'question': 'How do I copy files from my local machine to docker container?',\n",
       "   'course': 'machine-learning-zoomcamp'}},\n",
       " {'score': 59.812744,\n",
       "  'source': {'text': 'You can copy files from your local machine into a Docker container using the docker cp command. Here\\'s how to do it:\\nIn the Dockerfile, you can provide the folder containing the files that you want to copy over. The basic syntax is as follows:\\nCOPY [\"src/predict.py\", \"models/xgb_model.bin\", \"./\"]\\t\\t\\t\\t\\t\\t\\t\\t\\t\\t\\tGopakumar Gopinathan',\n",
       "   'section': '5. Deploying Machine Learning Models',\n",
       "   'question': 'How do I copy files from a different folder into docker container’s working directory?',\n",
       "   'course': 'machine-learning-zoomcamp'}}]"
      ]
     },
     "execution_count": 50,
     "metadata": {},
     "output_type": "execute_result"
    }
   ],
   "source": [
    "# question 4\n",
    "homework.elastic_search(query='How do copy a file to a Docker container?')"
   ]
  },
  {
   "cell_type": "code",
   "execution_count": 101,
   "id": "cb06d3bb",
   "metadata": {},
   "outputs": [
    {
     "name": "stdout",
     "output_type": "stream",
     "text": [
      "You're a course teaching assistant. Answer the QUESTION based on the CONTEXT from the FAQ database.\n",
      "Use only the facts from the CONTEXT when answering the QUESTION.\n",
      "\n",
      "QUESTION: How do copy a file to a Docker container?\n",
      "\n",
      "CONTEXT:\n",
      "Q: How do I debug a docker container?\n",
      "A: Launch the container image in interactive mode and overriding the entrypoint, so that it starts a bash command.\n",
      "docker run -it --entrypoint bash <image>\n",
      "If the container is already running, execute a command in the specific container:\n",
      "docker ps (find the container-id)\n",
      "docker exec -it <container-id> bash\n",
      "(Marcos MJD)\n",
      "\n",
      "Q: How do I copy files from my local machine to docker container?\n",
      "A: You can copy files from your local machine into a Docker container using the docker cp command. Here's how to do it:\n",
      "To copy a file or directory from your local machine into a running Docker container, you can use the `docker cp command`. The basic syntax is as follows:\n",
      "docker cp /path/to/local/file_or_directory container_id:/path/in/container\n",
      "Hrithik Kumar Advani\n",
      "\n",
      "Q: How do I copy files from a different folder into docker container’s working directory?\n",
      "A: You can copy files from your local machine into a Docker container using the docker cp command. Here's how to do it:\n",
      "In the Dockerfile, you can provide the folder containing the files that you want to copy over. The basic syntax is as follows:\n",
      "COPY [\"src/predict.py\", \"models/xgb_model.bin\", \"./\"]\t\t\t\t\t\t\t\t\t\t\tGopakumar Gopinathan\n"
     ]
    },
    {
     "data": {
      "text/plain": [
       "1446"
      ]
     },
     "execution_count": 101,
     "metadata": {},
     "output_type": "execute_result"
    }
   ],
   "source": [
    "prompt = homework.get_prompt(query='How do copy a file to a Docker container?')\n",
    "print(prompt)\n",
    "len(prompt)"
   ]
  },
  {
   "cell_type": "code",
   "execution_count": 114,
   "id": "17b84d4c",
   "metadata": {},
   "outputs": [
    {
     "data": {
      "text/plain": [
       "320"
      ]
     },
     "execution_count": 114,
     "metadata": {},
     "output_type": "execute_result"
    }
   ],
   "source": [
    "encoded = homework.encode_prompt(query='How do copy a file to a Docker container?')\n",
    "num_token = len(encoded)\n",
    "num_token"
   ]
  },
  {
   "cell_type": "code",
   "execution_count": null,
   "id": "426dabc8",
   "metadata": {},
   "outputs": [],
   "source": []
  }
 ],
 "metadata": {
  "kernelspec": {
   "display_name": ".venv",
   "language": "python",
   "name": "python3"
  },
  "language_info": {
   "codemirror_mode": {
    "name": "ipython",
    "version": 3
   },
   "file_extension": ".py",
   "mimetype": "text/x-python",
   "name": "python",
   "nbconvert_exporter": "python",
   "pygments_lexer": "ipython3",
   "version": "3.11.2"
  }
 },
 "nbformat": 4,
 "nbformat_minor": 5
}
